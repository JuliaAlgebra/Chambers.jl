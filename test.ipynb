{
 "cells": [
  {
   "cell_type": "code",
   "execution_count": 45,
   "metadata": {},
   "outputs": [],
   "source": [
    "using LinearAlgebra, LightGraphs, Random\n",
    "using HomotopyContinuation\n",
    "\n",
    "using ProgressMeter\n",
    "using PrettyTables, Crayons"
   ]
  },
  {
   "cell_type": "code",
   "execution_count": 46,
   "metadata": {},
   "outputs": [],
   "source": [
    "using SciMLBase"
   ]
  },
  {
   "cell_type": "code",
   "execution_count": 47,
   "metadata": {},
   "outputs": [],
   "source": [
    "using DifferentialEquations"
   ]
  },
  {
   "cell_type": "code",
   "execution_count": 48,
   "metadata": {},
   "outputs": [
    {
     "data": {
      "text/plain": [
       "ProgressMeter"
      ]
     },
     "metadata": {},
     "output_type": "display_data"
    }
   ],
   "source": [
    "const HC = HomotopyContinuation\n",
    "const DE = DifferentialEquations\n",
    "const LA = LinearAlgebra\n",
    "const LG = LightGraphs\n",
    "const PM = ProgressMeter"
   ]
  },
  {
   "cell_type": "code",
   "execution_count": 63,
   "metadata": {},
   "outputs": [
    {
     "data": {
      "text/plain": [
       "_regions_infinity (generic function with 1 method)"
      ]
     },
     "metadata": {},
     "output_type": "display_data"
    }
   ],
   "source": [
    "include(\"src/progressmeter.jl\")\n",
    "include(\"src/output.jl\")\n",
    "include(\"src/hessian.jl\")\n",
    "include(\"src/path_tracking.jl\")\n",
    "include(\"src/partition.jl\")\n",
    "include(\"src/affine_regions.jl\")\n",
    "include(\"src/membership.jl\")\n",
    "include(\"src/regions.jl\")\n"
   ]
  },
  {
   "cell_type": "code",
   "execution_count": 68,
   "metadata": {},
   "outputs": [
    {
     "name": "stderr",
     "output_type": "stream",
     "text": [
      "\u001b[32m◐ Computing regions...    Time: 0:00:01\u001b[39m\u001b[K"
     ]
    },
    {
     "name": "stdout",
     "output_type": "stream",
     "text": [
      "\u001b[32m\n",
      "\n",
      "\n",
      "Computing critical points:\n"
     ]
    },
    {
     "name": "stderr",
     "output_type": "stream",
     "text": [
      "\n",
      "\u001b[32m◓ Computing regions...    Time: 0:00:02\u001b[39m\u001b[K"
     ]
    },
    {
     "name": "stdout",
     "output_type": "stream",
     "text": [
      " \n",
      "\u001b[32m\n",
      "\n",
      "\n",
      "\n",
      "Computing critical points at infinity:\n"
     ]
    },
    {
     "name": "stderr",
     "output_type": "stream",
     "text": [
      "\n",
      "\n",
      "\u001b[32m◑ Computing regions...    Time: 0:00:03\u001b[39m\u001b[K"
     ]
    },
    {
     "name": "stdout",
     "output_type": "stream",
     "text": [
      " \n"
     ]
    },
    {
     "name": "stderr",
     "output_type": "stream",
     "text": [
      "\n",
      "\u001b[32m✓ Computing regions...    Time: 0:00:03\u001b[39m\u001b[K\n"
     ]
    },
    {
     "data": {
      "text/plain": [
       "RegionsResult with 2 regions:\n",
       "=============================\n",
       "4 complex critical points\n",
       "4 real critical points\n"
      ]
     },
     "metadata": {},
     "output_type": "display_data"
    },
    {
     "name": "stdout",
     "output_type": "stream",
     "text": [
      "╭──────────────┬─────────────────────────────────╮\n",
      "│\u001b[32m sign pattern \u001b[0m│\u001b[32m regions                         \u001b[0m│\n",
      "├──────────────┼─────────────────────────────────┤\n",
      "│ -            │ number = 1                      │\n",
      "│              │\u001b[34m χ = 1, μ = [2, 1, 0], unbounded \u001b[0m│\n",
      "│ +            │ number = 1                      │\n",
      "│              │  χ = 1, μ = [1, 0, 0]           │\n",
      "╰──────────────┴─────────────────────────────────╯\n"
     ]
    }
   ],
   "source": [
    "@var x y\n",
    "f = [y-x^2]\n",
    "R = regions(f,projective_fusion=true, bounded_check= false)"
   ]
  },
  {
   "cell_type": "code",
   "execution_count": 69,
   "metadata": {},
   "outputs": [
    {
     "data": {
      "text/plain": [
       "2-element Vector{Vector{Region}}:\n",
       " [Region with sign pattern (+) :\n",
       " χ = 1, μ = [1, 0, 0]\n",
       "]\n",
       " [Region with sign pattern (-) :\n",
       "χ = 1, μ = [2, 1, 0], unbounded\n",
       "]"
      ]
     },
     "metadata": {},
     "output_type": "display_data"
    }
   ],
   "source": [
    "projective_regions(R)"
   ]
  },
  {
   "cell_type": "code",
   "execution_count": 70,
   "metadata": {},
   "outputs": [
    {
     "name": "stderr",
     "output_type": "stream",
     "text": [
      "\u001b[32m◐ Computing regions...    Time: 0:00:01\u001b[39m\u001b[K"
     ]
    },
    {
     "name": "stdout",
     "output_type": "stream",
     "text": [
      "\u001b[32m\n",
      "\n",
      "\n",
      "Computing critical points:\n"
     ]
    },
    {
     "name": "stderr",
     "output_type": "stream",
     "text": [
      "\n",
      "\u001b[32m◓ Computing regions...    Time: 0:00:02\u001b[39m\u001b[K"
     ]
    },
    {
     "name": "stdout",
     "output_type": "stream",
     "text": [
      " \n",
      "\u001b[32m\n",
      "\n",
      "\n",
      "\n",
      "Computing critical points at infinity:\n"
     ]
    },
    {
     "name": "stderr",
     "output_type": "stream",
     "text": [
      "\n",
      "\n",
      "\u001b[32m◑ Computing regions...    Time: 0:00:05\u001b[39m\u001b[K"
     ]
    },
    {
     "name": "stdout",
     "output_type": "stream",
     "text": [
      " \n"
     ]
    },
    {
     "name": "stderr",
     "output_type": "stream",
     "text": [
      "\n",
      "\u001b[32m◒ Computing regions...    Time: 0:00:08\u001b[39m\u001b[K\n",
      "\n",
      "\u001b[32m◐ Computing regions...    Time: 0:00:10\u001b[39m\u001b[K\n",
      "\n",
      "\u001b[32m◓ Computing regions...    Time: 0:00:12\u001b[39m\u001b[K\n",
      "\n",
      "\u001b[32m✓ Computing regions...    Time: 0:00:12\u001b[39m\u001b[K\n"
     ]
    },
    {
     "data": {
      "text/plain": [
       "RegionsResult with 12 regions:\n",
       "==============================\n",
       "46 complex critical points\n",
       "22 real critical points\n"
      ]
     },
     "metadata": {},
     "output_type": "display_data"
    },
    {
     "name": "stdout",
     "output_type": "stream",
     "text": [
      "╭──────────────┬────────────────────────────────────╮\n",
      "│\u001b[32m sign pattern \u001b[0m│\u001b[32m regions                            \u001b[0m│\n",
      "├──────────────┼────────────────────────────────────┤\n",
      "│ + + + +      │ number = 1                         │\n",
      "│              │\u001b[34m χ = 0, μ = [2, 2, 0, 0], unbounded \u001b[0m│\n",
      "│ - + + +      │ number = 1                         │\n",
      "│              │\u001b[34m χ = 0, μ = [1, 1, 0, 0], unbounded \u001b[0m│\n",
      "│ - + + -      │ number = 1                         │\n",
      "│              │\u001b[34m χ = 0, μ = [1, 1, 0, 0], unbounded \u001b[0m│\n",
      "│ + + + -      │ number = 1                         │\n",
      "│              │\u001b[34m χ = 0, μ = [1, 1, 0, 0], unbounded \u001b[0m│\n",
      "│ + - - +      │ number = 1                         │\n",
      "│              │\u001b[38;5;208m χ = 0, μ = [1, 1, 0, 0], bounded   \u001b[0m│\n",
      "│ + - - -      │ number = 1                         │\n",
      "│              │\u001b[38;5;208m χ = 1, μ = [1, 0, 0, 0], bounded   \u001b[0m│\n",
      "│ + + - +      │ number = 1                         │\n",
      "│              │\u001b[38;5;208m χ = 0, μ = [1, 1, 0, 0], bounded   \u001b[0m│\n",
      "│ - - - +      │ number = 1                         │\n",
      "│              │\u001b[38;5;208m χ = 0, μ = [1, 1, 0, 0], bounded   \u001b[0m│\n",
      "│ - - - -      │ number = 1                         │\n",
      "│              │\u001b[38;5;208m χ = 1, μ = [1, 0, 0, 0], bounded   \u001b[0m│\n",
      "│ - - + +      │ number = 1                         │\n",
      "│              │\u001b[38;5;208m χ = 0, μ = [1, 1, 0, 0], bounded   \u001b[0m│\n",
      "│ + + - -      │ number = 1                         │\n",
      "│              │\u001b[35m χ = 1, μ = [1, 0, 0, 0], undecided \u001b[0m│\n",
      "│ - - + -      │ number = 1                         │\n",
      "│              │\u001b[35m χ = 1, μ = [1, 0, 0, 0], undecided \u001b[0m│\n",
      "╰──────────────┴────────────────────────────────────╯\n"
     ]
    }
   ],
   "source": [
    "@var x y z\n",
    "f_list = [z, \n",
    "        x^2+y^2+z-1, \n",
    "        x^2+y^2-z-1, \n",
    "        x^2+y^2-3/2*z^2-1/4]\n",
    "R = regions(f_list,projective_fusion=true, bounded_check= true)"
   ]
  },
  {
   "cell_type": "code",
   "execution_count": 71,
   "metadata": {},
   "outputs": [
    {
     "name": "stderr",
     "output_type": "stream",
     "text": [
      "\u001b[32m◐ Computing regions...    Time: 0:00:01\u001b[39m\u001b[K"
     ]
    },
    {
     "name": "stdout",
     "output_type": "stream",
     "text": [
      "\u001b[32m\n",
      "\n",
      "\n",
      "Computing critical points:\n"
     ]
    },
    {
     "name": "stderr",
     "output_type": "stream",
     "text": [
      "\n",
      "\u001b[32m◓ Computing regions...    Time: 0:00:03\u001b[39m\u001b[K"
     ]
    },
    {
     "name": "stdout",
     "output_type": "stream",
     "text": [
      " \n",
      "\u001b[32m\n",
      "\n",
      "\n",
      "\n",
      "Computing critical points at infinity:\n"
     ]
    },
    {
     "name": "stderr",
     "output_type": "stream",
     "text": [
      "\n",
      "\n",
      "\u001b[32m◑ Computing regions...    Time: 0:00:05\u001b[39m\u001b[K"
     ]
    },
    {
     "name": "stdout",
     "output_type": "stream",
     "text": [
      " \n"
     ]
    },
    {
     "name": "stderr",
     "output_type": "stream",
     "text": [
      "\n",
      "\u001b[32m✓ Computing regions...    Time: 0:00:06\u001b[39m\u001b[K\n"
     ]
    },
    {
     "data": {
      "text/plain": [
       "RegionsResult with 12 regions:\n",
       "==============================\n",
       "48 complex critical points\n",
       "16 real critical points\n"
      ]
     },
     "metadata": {},
     "output_type": "display_data"
    },
    {
     "name": "stdout",
     "output_type": "stream",
     "text": [
      "╭──────────────┬──────────────────────────────────╮\n",
      "│\u001b[32m sign pattern \u001b[0m│\u001b[32m regions                          \u001b[0m│\n",
      "├──────────────┼──────────────────────────────────┤\n",
      "│ + + + +      │ number = 3                       │\n",
      "│              │\u001b[34m χ = 1, μ = [1, 0, 0], unbounded  \u001b[0m│\n",
      "│              │\u001b[34m χ = 1, μ = [1, 0, 0], unbounded  \u001b[0m│\n",
      "│              │\u001b[38;5;208m χ = 1, μ = [1, 0, 0], bounded    \u001b[0m│\n",
      "│ - + - +      │ number = 1                       │\n",
      "│              │\u001b[34m χ = 1, μ = [2, 1, 0], unbounded  \u001b[0m│\n",
      "│ + - - +      │ number = 1                       │\n",
      "│              │\u001b[34m χ = 1, μ = [1, 0, 0], unbounded  \u001b[0m│\n",
      "│ - - + +      │ number = 1                       │\n",
      "│              │\u001b[34m χ = 1, μ = [1, 0, 0], unbounded  \u001b[0m│\n",
      "│ + + - +      │ number = 1                       │\n",
      "│              │\u001b[34m χ = 1, μ = [1, 0, 0], unbounded  \u001b[0m│\n",
      "│ - + + +      │ number = 2                       │\n",
      "│              │\u001b[34m χ = 1, μ = [1, 0, 0], unbounded  \u001b[0m│\n",
      "│              │\u001b[38;5;208m χ = 1, μ = [1, 0, 0], bounded    \u001b[0m│\n",
      "│ - - - +      │ number = 1                       │\n",
      "│              │\u001b[35m χ = 1, μ = [1, 0, 0], undecided  \u001b[0m│\n",
      "│ + - + +      │ number = 2                       │\n",
      "│              │\u001b[35m χ = -1, μ = [1, 2, 0], undecided \u001b[0m│\n",
      "│              │\u001b[35m χ = 1, μ = [1, 0, 0], undecided  \u001b[0m│\n",
      "╰──────────────┴──────────────────────────────────╯\n"
     ]
    }
   ],
   "source": [
    "@var x y\n",
    "f_list = [x+y, \n",
    "        23*x^6+60*x^5*y+50*x^4*y^2+16*x^3*y^3+3*x^2*y^4-78*x^5-\n",
    "        336*x^4*y-478*x^3*y^2-284*x^2*y^3-76*x*y^4-12*y^5-87*x^4-144*x^3*y+\n",
    "        54*x^2*y^2+180*x*y^3+68*y^4+28*x^3+24*x^2*y-58*x*y^2-56*y^3-87*x^2-\n",
    "        300*x*y-208*y^2-78*x-72*y+23, \n",
    "        x+3*y+1, \n",
    "        5*x^2+4*x*y+y^2-6*x-4*y+5]\n",
    "R = regions(f_list,projective_fusion=false, bounded_check= true, δ = 1e-5)"
   ]
  },
  {
   "cell_type": "code",
   "execution_count": 72,
   "metadata": {},
   "outputs": [
    {
     "data": {
      "text/plain": [
       "8-element Vector{Vector{Region}}:\n",
       " [Region with sign pattern (- - - +) :\n",
       "χ = 1, μ = [1, 0, 0], undecided\n",
       "]\n",
       " [Region with sign pattern (+ - - +) :\n",
       "χ = 1, μ = [1, 0, 0], unbounded\n",
       ", Region with sign pattern (- - + +) :\n",
       "χ = 1, μ = [1, 0, 0], unbounded\n",
       "]\n",
       " [Region with sign pattern (+ - + +) :\n",
       "χ = -1, μ = [1, 2, 0], undecided\n",
       "]\n",
       " [Region with sign pattern (+ - + +) :\n",
       "χ = 1, μ = [1, 0, 0], undecided\n",
       "]\n",
       " [Region with sign pattern (+ + + +) :\n",
       "χ = 1, μ = [1, 0, 0], unbounded\n",
       ", Region with sign pattern (- + - +) :\n",
       "χ = 1, μ = [2, 1, 0], unbounded\n",
       ", Region with sign pattern (+ + + +) :\n",
       "χ = 1, μ = [1, 0, 0], unbounded\n",
       "]\n",
       " [Region with sign pattern (+ + - +) :\n",
       "χ = 1, μ = [1, 0, 0], unbounded\n",
       ", Region with sign pattern (- + + +) :\n",
       "χ = 1, μ = [1, 0, 0], unbounded\n",
       "]\n",
       " [Region with sign pattern (- + + +) :\n",
       "χ = 1, μ = [1, 0, 0], bounded\n",
       "]\n",
       " [Region with sign pattern (+ + + +) :\n",
       "χ = 1, μ = [1, 0, 0], bounded\n",
       "]"
      ]
     },
     "metadata": {},
     "output_type": "display_data"
    }
   ],
   "source": [
    "projective_regions(R)"
   ]
  },
  {
   "cell_type": "code",
   "execution_count": 73,
   "metadata": {},
   "outputs": [
    {
     "name": "stderr",
     "output_type": "stream",
     "text": [
      "\u001b[32m◐ Computing regions...    Time: 0:00:01\u001b[39m\u001b[K"
     ]
    },
    {
     "name": "stdout",
     "output_type": "stream",
     "text": [
      "\u001b[32m\n",
      "\n",
      "\n",
      "Computing critical points:\n"
     ]
    },
    {
     "name": "stderr",
     "output_type": "stream",
     "text": [
      "\n",
      "\u001b[32m◓ Computing regions...    Time: 0:00:02\u001b[39m\u001b[K"
     ]
    },
    {
     "name": "stdout",
     "output_type": "stream",
     "text": [
      " \n",
      "\u001b[32m\n",
      "\n",
      "\n",
      "\n",
      "Computing critical points at infinity:\n"
     ]
    },
    {
     "name": "stderr",
     "output_type": "stream",
     "text": [
      "\n",
      "\n",
      "\u001b[32m◑ Computing regions...    Time: 0:00:03\u001b[39m\u001b[K"
     ]
    },
    {
     "name": "stdout",
     "output_type": "stream",
     "text": [
      " \n"
     ]
    },
    {
     "name": "stderr",
     "output_type": "stream",
     "text": [
      "\n",
      "\u001b[32m✓ Computing regions...    Time: 0:00:04\u001b[39m\u001b[K\n"
     ]
    },
    {
     "data": {
      "text/plain": [
       "RegionsResult with 17 regions:\n",
       "==============================\n",
       "23 complex critical points\n",
       "17 real critical points\n"
      ]
     },
     "metadata": {},
     "output_type": "display_data"
    },
    {
     "name": "stdout",
     "output_type": "stream",
     "text": [
      "╭──────────────┬─────────────────────────────────╮\n",
      "│\u001b[32m sign pattern \u001b[0m│\u001b[32m regions                         \u001b[0m│\n",
      "├──────────────┼─────────────────────────────────┤\n",
      "│ - - - - - -  │ number = 1                      │\n",
      "│              │\u001b[34m χ = 1, μ = [1, 0, 0], unbounded \u001b[0m│\n",
      "│ + + + + + +  │ number = 1                      │\n",
      "│              │\u001b[34m χ = 1, μ = [1, 0, 0], unbounded \u001b[0m│\n",
      "│ - - - + + -  │ number = 1                      │\n",
      "│              │\u001b[34m χ = 1, μ = [1, 0, 0], unbounded \u001b[0m│\n",
      "│ + + + - - +  │ number = 1                      │\n",
      "│              │\u001b[34m χ = 1, μ = [1, 0, 0], unbounded \u001b[0m│\n",
      "│ - + - + - +  │ number = 1                      │\n",
      "│              │\u001b[38;5;208m χ = 1, μ = [1, 0, 0], bounded   \u001b[0m│\n",
      "│ - + - + - -  │ number = 2                      │\n",
      "│              │\u001b[38;5;208m χ = 1, μ = [1, 0, 0], bounded   \u001b[0m│\n",
      "│              │\u001b[38;5;208m χ = 1, μ = [1, 0, 0], bounded   \u001b[0m│\n",
      "│ + + - + - +  │ number = 1                      │\n",
      "│              │\u001b[38;5;208m χ = 1, μ = [1, 0, 0], bounded   \u001b[0m│\n",
      "│ + + - + - -  │ number = 1                      │\n",
      "│              │\u001b[38;5;208m χ = 1, μ = [1, 0, 0], bounded   \u001b[0m│\n",
      "│ - - - + - -  │ number = 1                      │\n",
      "│              │\u001b[35m χ = 1, μ = [1, 0, 0], undecided \u001b[0m│\n",
      "│ + + - + + -  │ number = 1                      │\n",
      "│              │\u001b[35m χ = 1, μ = [1, 0, 0], undecided \u001b[0m│\n",
      "│ + + - + + +  │ number = 1                      │\n",
      "│              │\u001b[35m χ = 1, μ = [1, 0, 0], undecided \u001b[0m│\n",
      "│ - + - + + -  │ number = 1                      │\n",
      "│              │\u001b[35m χ = 1, μ = [1, 0, 0], undecided \u001b[0m│\n",
      "│ + + + + - +  │ number = 1                      │\n",
      "│              │\u001b[35m χ = 1, μ = [1, 0, 0], undecided \u001b[0m│\n",
      "│ - + - - - +  │ number = 1                      │\n",
      "│              │\u001b[35m χ = 1, μ = [1, 0, 0], undecided \u001b[0m│\n",
      "│ + + - - - +  │ number = 1                      │\n",
      "│              │\u001b[35m χ = 1, μ = [1, 0, 0], undecided \u001b[0m│\n",
      "│ - + - - - -  │ number = 1                      │\n",
      "│              │\u001b[35m χ = 1, μ = [1, 0, 0], undecided \u001b[0m│\n",
      "╰──────────────┴─────────────────────────────────╯\n"
     ]
    }
   ],
   "source": [
    "@var a b\n",
    "f_list=[b, b+1, 3b-1, 3b+a+6, 3b+a-3, 9b^3-3b^2*a+b*a^2-3b-a+2]\n",
    "R = regions(System(f_list),bounded_check=true, projective_fusion = true, δ = 1e-5)"
   ]
  },
  {
   "cell_type": "code",
   "execution_count": 74,
   "metadata": {},
   "outputs": [
    {
     "name": "stderr",
     "output_type": "stream",
     "text": [
      "\u001b[32m◐ Computing regions...    Time: 0:00:01\u001b[39m\u001b[K"
     ]
    },
    {
     "name": "stdout",
     "output_type": "stream",
     "text": [
      "\u001b[32m\n",
      "\n",
      "\n",
      "Computing critical points:\n"
     ]
    },
    {
     "name": "stderr",
     "output_type": "stream",
     "text": [
      "\n",
      "\u001b[32m◓ Computing regions...    Time: 0:00:02\u001b[39m\u001b[K"
     ]
    },
    {
     "name": "stdout",
     "output_type": "stream",
     "text": [
      " \n",
      "\u001b[32m\n",
      "\n",
      "\n",
      "\n",
      "Computing critical points at infinity:\n"
     ]
    },
    {
     "name": "stderr",
     "output_type": "stream",
     "text": [
      "\n",
      "\n",
      "\u001b[32m◑ Computing regions...    Time: 0:00:03\u001b[39m\u001b[K"
     ]
    },
    {
     "name": "stdout",
     "output_type": "stream",
     "text": [
      " \n"
     ]
    },
    {
     "name": "stderr",
     "output_type": "stream",
     "text": [
      "\n",
      "\u001b[32m✓ Computing regions...    Time: 0:00:04\u001b[39m\u001b[K\n"
     ]
    },
    {
     "data": {
      "text/plain": [
       "RegionsResult with 17 regions:\n",
       "==============================\n",
       "23 complex critical points\n",
       "17 real critical points\n"
      ]
     },
     "metadata": {},
     "output_type": "display_data"
    },
    {
     "name": "stdout",
     "output_type": "stream",
     "text": [
      "╭──────────────┬─────────────────────────────────╮\n",
      "│\u001b[32m sign pattern \u001b[0m│\u001b[32m regions                         \u001b[0m│\n",
      "├──────────────┼─────────────────────────────────┤\n",
      "│ - - - + + -  │ number = 1                      │\n",
      "│              │\u001b[34m χ = 1, μ = [1, 0, 0], unbounded \u001b[0m│\n",
      "│ + + + + - +  │ number = 1                      │\n",
      "│              │\u001b[34m χ = 1, μ = [1, 0, 0], unbounded \u001b[0m│\n",
      "│ - - - - - -  │ number = 1                      │\n",
      "│              │\u001b[34m χ = 1, μ = [1, 0, 0], unbounded \u001b[0m│\n",
      "│ + + + + + +  │ number = 1                      │\n",
      "│              │\u001b[34m χ = 1, μ = [1, 0, 0], unbounded \u001b[0m│\n",
      "│ - + - - - -  │ number = 1                      │\n",
      "│              │\u001b[38;5;208m χ = 1, μ = [1, 0, 0], bounded   \u001b[0m│\n",
      "│ - + - + - +  │ number = 1                      │\n",
      "│              │\u001b[38;5;208m χ = 1, μ = [1, 0, 0], bounded   \u001b[0m│\n",
      "│ + + - + + +  │ number = 1                      │\n",
      "│              │\u001b[38;5;208m χ = 1, μ = [1, 0, 0], bounded   \u001b[0m│\n",
      "│ - + - + - -  │ number = 2                      │\n",
      "│              │\u001b[38;5;208m χ = 1, μ = [1, 0, 0], bounded   \u001b[0m│\n",
      "│              │\u001b[38;5;208m χ = 1, μ = [1, 0, 0], bounded   \u001b[0m│\n",
      "│ + + + - - +  │ number = 1                      │\n",
      "│              │\u001b[38;5;208m χ = 1, μ = [1, 0, 0], bounded   \u001b[0m│\n",
      "│ + + - + - +  │ number = 1                      │\n",
      "│              │\u001b[38;5;208m χ = 1, μ = [1, 0, 0], bounded   \u001b[0m│\n",
      "│ + + - + - -  │ number = 1                      │\n",
      "│              │\u001b[38;5;208m χ = 1, μ = [1, 0, 0], bounded   \u001b[0m│\n",
      "│ - + - + + -  │ number = 1                      │\n",
      "│              │\u001b[35m χ = 1, μ = [1, 0, 0], undecided \u001b[0m│\n",
      "│ + + - + + -  │ number = 1                      │\n",
      "│              │\u001b[35m χ = 1, μ = [1, 0, 0], undecided \u001b[0m│\n",
      "│ - - - + - -  │ number = 1                      │\n",
      "│              │\u001b[35m χ = 1, μ = [1, 0, 0], undecided \u001b[0m│\n",
      "│ - + - - - +  │ number = 1                      │\n",
      "│              │\u001b[35m χ = 1, μ = [1, 0, 0], undecided \u001b[0m│\n",
      "│ + + - - - +  │ number = 1                      │\n",
      "│              │\u001b[35m χ = 1, μ = [1, 0, 0], undecided \u001b[0m│\n",
      "╰──────────────┴─────────────────────────────────╯\n"
     ]
    }
   ],
   "source": [
    "@var a b\n",
    "f_list=[a, a+1, 3a-1, 3a+b+6, 3a+b-3, 9a^3-3a^2*b+a*b^2-3a-b+2]\n",
    "R = regions(System(f_list,variables = [b,a]),bounded_check=true, projective_fusion = true, δ = 1e-5)"
   ]
  },
  {
   "cell_type": "code",
   "execution_count": 52,
   "metadata": {},
   "outputs": [
    {
     "data": {
      "text/plain": [
       "generate_random_parabola (generic function with 1 method)"
      ]
     },
     "metadata": {},
     "output_type": "display_data"
    }
   ],
   "source": [
    "function generate_random_parabola(variable_list)\n",
    "    n=length(variable_list)\n",
    "    alpha0= rand(1:3)\n",
    "    alpha = rand(-3:3,n)\n",
    "    f=alpha0\n",
    "    for i in 1:n\n",
    "        f+=alpha[i]*variable_list[i]\n",
    "    end\n",
    "    for i in 1:n-1\n",
    "        g=rand(1:3)\n",
    "        for j in 1:n\n",
    "            g+=rand(-4:4)*variable_list[j]\n",
    "        end\n",
    "        f+= g^2\n",
    "    end\n",
    "    return f\n",
    "end"
   ]
  },
  {
   "cell_type": "code",
   "execution_count": 269,
   "metadata": {},
   "outputs": [
    {
     "name": "stderr",
     "output_type": "stream",
     "text": [
      "\u001b[32m◐ Computing regions...    Time: 0:00:01\u001b[39m\u001b[K"
     ]
    },
    {
     "name": "stdout",
     "output_type": "stream",
     "text": [
      "\u001b[32m\n",
      "\n",
      "\n",
      "Computing critical points:\n"
     ]
    },
    {
     "name": "stderr",
     "output_type": "stream",
     "text": [
      "\n",
      "\u001b[32m◓ Computing regions...    Time: 0:00:03\u001b[39m\u001b[K"
     ]
    },
    {
     "name": "stdout",
     "output_type": "stream",
     "text": [
      " \n",
      "\u001b[32m\n",
      "\n",
      "\n",
      "\n",
      "Computing critical points at infinity:\n"
     ]
    },
    {
     "name": "stderr",
     "output_type": "stream",
     "text": [
      "\n",
      "\n",
      "\u001b[32m◑ Computing regions...    Time: 0:00:05\u001b[39m\u001b[K"
     ]
    },
    {
     "name": "stdout",
     "output_type": "stream",
     "text": [
      " \n"
     ]
    },
    {
     "name": "stderr",
     "output_type": "stream",
     "text": [
      "\n",
      "\u001b[32m✓ Computing regions...    Time: 0:00:05\u001b[39m\u001b[K\n"
     ]
    },
    {
     "data": {
      "text/plain": [
       "RegionsResult with 8 regions:\n",
       "=============================\n",
       "56 complex critical points\n",
       "12 real critical points\n"
      ]
     },
     "metadata": {},
     "output_type": "display_data"
    },
    {
     "name": "stdout",
     "output_type": "stream",
     "text": [
      "╭──────────────┬─────────────────────────────────────╮\n",
      "│\u001b[32m sign pattern \u001b[0m│\u001b[32m regions                             \u001b[0m│\n",
      "├──────────────┼─────────────────────────────────────┤\n",
      "│ - - -        │ number = 1                          │\n",
      "│              │\u001b[34m χ = -1, μ = [2, 3, 0, 0], unbounded \u001b[0m│\n",
      "│ - + -        │ number = 1                          │\n",
      "│              │\u001b[34m χ = 1, μ = [1, 0, 0, 0], unbounded  \u001b[0m│\n",
      "│ + + -        │ number = 1                          │\n",
      "│              │\u001b[38;5;208m χ = 1, μ = [1, 0, 0, 0], bounded    \u001b[0m│\n",
      "│ - + +        │ number = 1                          │\n",
      "│              │\u001b[38;5;208m χ = 1, μ = [1, 0, 0, 0], bounded    \u001b[0m│\n",
      "│ + - +        │ number = 1                          │\n",
      "│              │\u001b[38;5;208m χ = 1, μ = [1, 0, 0, 0], bounded    \u001b[0m│\n",
      "│ + + +        │ number = 1                          │\n",
      "│              │\u001b[38;5;208m χ = 1, μ = [1, 0, 0, 0], bounded    \u001b[0m│\n",
      "│ - - +        │ number = 1                          │\n",
      "│              │\u001b[35m χ = 1, μ = [1, 0, 0, 0], undecided  \u001b[0m│\n",
      "│ + - -        │ number = 1                          │\n",
      "│              │\u001b[35m χ = 1, μ = [1, 0, 0, 0], undecided  \u001b[0m│\n",
      "╰──────────────┴─────────────────────────────────────╯\n"
     ]
    }
   ],
   "source": [
    "@var x y z \n",
    "f_list = [z-x^2-y^2, \n",
    "        x-y^2-z^2, \n",
    "        y-x^2-z^2, \n",
    "        z-(x+3)^2-(y+1)^2]\n",
    "regions(System(f_list[[1,2,3]],variables = [x,y,z]),bounded_check=true)"
   ]
  },
  {
   "cell_type": "code",
   "execution_count": 75,
   "metadata": {},
   "outputs": [
    {
     "name": "stderr",
     "output_type": "stream",
     "text": [
      "\u001b[32m◐ Computing regions...    Time: 0:00:01\u001b[39m\u001b[K"
     ]
    },
    {
     "name": "stdout",
     "output_type": "stream",
     "text": [
      "\u001b[32m\n",
      "\n",
      "\n",
      "Computing critical points:\n"
     ]
    },
    {
     "name": "stderr",
     "output_type": "stream",
     "text": [
      "\n",
      "\u001b[32m◓ Computing regions...    Time: 0:00:03\u001b[39m\u001b[K"
     ]
    },
    {
     "name": "stdout",
     "output_type": "stream",
     "text": [
      " \n",
      "\u001b[32m\n",
      "\n",
      "\n",
      "\n",
      "Computing critical points at infinity:\n"
     ]
    },
    {
     "name": "stderr",
     "output_type": "stream",
     "text": [
      "\n",
      "\n",
      "\u001b[32m◑ Computing regions...    Time: 0:00:06\u001b[39m\u001b[K"
     ]
    },
    {
     "name": "stdout",
     "output_type": "stream",
     "text": [
      " \n"
     ]
    },
    {
     "name": "stderr",
     "output_type": "stream",
     "text": [
      "\n",
      "\u001b[32m✓ Computing regions...    Time: 0:00:06\u001b[39m\u001b[K\n"
     ]
    },
    {
     "data": {
      "text/plain": [
       "RegionsResult with 5 regions:\n",
       "=============================\n",
       "117 complex critical points\n",
       "13 real critical points\n"
      ]
     },
     "metadata": {},
     "output_type": "display_data"
    },
    {
     "name": "stdout",
     "output_type": "stream",
     "text": [
      "╭──────────────┬────────────────────────────────────╮\n",
      "│\u001b[32m sign pattern \u001b[0m│\u001b[32m regions                            \u001b[0m│\n",
      "├──────────────┼────────────────────────────────────┤\n",
      "│ + + + +      │ number = 1                         │\n",
      "│              │\u001b[34m χ = 1, μ = [2, 3, 2, 0], unbounded \u001b[0m│\n",
      "│ - + + +      │ number = 1                         │\n",
      "│              │\u001b[35m χ = 1, μ = [1, 0, 0, 0], undecided \u001b[0m│\n",
      "│ + - + +      │ number = 1                         │\n",
      "│              │\u001b[35m χ = 1, μ = [2, 1, 0, 0], undecided \u001b[0m│\n",
      "│ + + + -      │ number = 1                         │\n",
      "│              │\u001b[35m χ = 1, μ = [1, 0, 0, 0], undecided \u001b[0m│\n",
      "│ + + - +      │ number = 1                         │\n",
      "│              │\u001b[35m χ = 1, μ = [1, 0, 0, 0], undecided \u001b[0m│\n",
      "╰──────────────┴────────────────────────────────────╯\n"
     ]
    }
   ],
   "source": [
    "@var x y z \n",
    "f_list = [3 + x + 3*y - z + (1 + 2*x + 4*y - 4*z)^2 + (2 + 3*x + 2*y + 3*z)^2\n",
    "2 + 3*x + 3*y + z + (1 - 3*x + 3*z)^2 + (2 - 3*x + 3*z)^2\n",
    "2 - 2*x - 2*y - 3*z + (2 - x + 4*z)^2 + (2 + 3*x + y + 2*z)^2\n",
    "1 - 3*x + 3*y - 3*z + (1 - 2*y + 2*z)^2 + (2 + x + 4*y)^2]\n",
    "regions(System(f_list[[1,2,3,4]],variables = [x,y,z]),δ=1e-5,bounded_check=true)"
   ]
  }
 ],
 "metadata": {
  "kernelspec": {
   "display_name": "Julia 1.10.5",
   "language": "julia",
   "name": "julia-1.10"
  },
  "language_info": {
   "file_extension": ".jl",
   "mimetype": "application/julia",
   "name": "julia",
   "version": "1.10.5"
  }
 },
 "nbformat": 4,
 "nbformat_minor": 2
}
